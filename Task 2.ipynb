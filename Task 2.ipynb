{
 "cells": [
  {
   "cell_type": "markdown",
   "metadata": {},
   "source": [
    "## Circuit Learning "
   ]
  },
  {
   "cell_type": "markdown",
   "metadata": {},
   "source": [
    "We start with importing libraries. We will use Xanadu's Open-Source platform PennyLane (https://pennylane.ai/) to perform this circuit learning task as it provides several in-built functions and libraries for direct use. "
   ]
  },
  {
   "cell_type": "code",
   "execution_count": 19,
   "metadata": {},
   "outputs": [],
   "source": [
    "import pennylane as qml\n",
    "import numpy as np"
   ]
  },
  {
   "cell_type": "markdown",
   "metadata": {},
   "source": [
    "Let's first talk about the problem, we need to create a circuit which gives |00> and |11> with equal probability. This will be a 2 qubit circuit with Bell state generation. Bell state is given by:\n",
    "\n",
    "|Psi> = (|00> +/- |11>) / sqrt(2)\n",
    "\n",
    "We have to create one of this state using only RX, RY and CNOT gates. Now, while it is strictly not necessary to have an intuition on how to create Bell states, it helps to have a more structured approach. |Psi>_plus_ can be created by a Hadamard operator on one qubit followed by CNOT gate on two qubits. \n",
    "\n",
    "Here we will use this knowledge as starting point and define the circuit as an RX and RY gate on qubit 0 followed by CNOT gate on qubit 0 and qubit 1 that will essentially qubit 1 to qubit 0. "
   ]
  },
  {
   "cell_type": "code",
   "execution_count": 20,
   "metadata": {},
   "outputs": [],
   "source": [
    "# Number of qubits in the circuit\n",
    "number_qubits = 2\n",
    "\n",
    "# Defining device. We will use Pennylane's default simulator which allows us to change number of measurements\n",
    "dev = qml.device(\"default.qubit\", wires=number_qubits, shots=1000, analytic=False)\n",
    "\n",
    "# Circuit definition with two learning parameters\n",
    "@qml.qnode(dev)\n",
    "def circuit(parameters):\n",
    "    qml.RX(parameters[0], wires=0)\n",
    "    qml.RY(parameters[1], wires=0)\n",
    "    qml.CNOT(wires=[0, 1])\n",
    "    return qml.expval(qml.PauliZ(0)), qml.expval(qml.PauliZ(1))"
   ]
  },
  {
   "cell_type": "markdown",
   "metadata": {},
   "source": [
    "Now we define a cost function that minimizes cost when there is equal probability of state |00> and |11>, this is when measurement of qubit 0 in Pauli Z is equal to 0 i.e. state in |0> and |1> with equal probability. "
   ]
  },
  {
   "cell_type": "code",
   "execution_count": 7,
   "metadata": {},
   "outputs": [],
   "source": [
    "def cost(parameters):\n",
    "    p1, p2 = circuit(parameters)\n",
    "    return np.absolute(p1)"
   ]
  },
  {
   "cell_type": "markdown",
   "metadata": {},
   "source": [
    "We now optimize the parameters using Gradient Descent algorithm"
   ]
  },
  {
   "cell_type": "code",
   "execution_count": 8,
   "metadata": {},
   "outputs": [],
   "source": [
    "def training(sampling):\n",
    "    dev.shots = sampling\n",
    "    initial_parameters = [0, 0] #We start with inital parameters 0, 0\n",
    "    n_steps = 30 # Number of steps of optimization\n",
    "    parameters_gd = initial_parameters.copy()\n",
    "    # Here we use Adagrad gradient descent optimizer which adjusts learning rate based on past-gradient results\n",
    "    opt = qml.AdagradOptimizer(stepsize=0.4)\n",
    "    costs_gd = []\n",
    "    for i in range(n_steps):\n",
    "        costs_gd.append(cost(parameters_gd))\n",
    "        parameters_gd = opt.step(cost, parameters_gd)\n",
    "\n",
    "    print(\"------------------------\")\n",
    "    print('The cost evolution for {0} measurement sampling is: {1}'.format(sampling, costs_gd))\n",
    "    print('\\n \\nThe final parameters are: {0}'.format(parameters_gd))\n",
    "    qubit0, qubit1 = circuit(parameters_gd)\n",
    "    print('\\n \\nThe qubit 0 and qubit 1 in Pauli-Z basis are {0} and {1}\\n'.format(qubit0, qubit1))"
   ]
  },
  {
   "cell_type": "markdown",
   "metadata": {},
   "source": [
    "Now we look at solutions of training function for different measurement samplings"
   ]
  },
  {
   "cell_type": "code",
   "execution_count": 9,
   "metadata": {},
   "outputs": [
    {
     "name": "stdout",
     "output_type": "stream",
     "text": [
      "------------------------\n",
      "The cost evolution for 1 measurement sampling is: [1.0, 1.0, 1.0, 1.0, 1.0, 1.0, 1.0, 1.0, 1.0, 1.0, 1.0, 1.0, 1.0, 1.0, 1.0, 1.0, 1.0, 1.0, 1.0, 1.0, 1.0, 1.0, 1.0, 1.0, 1.0, 1.0, 1.0, 1.0, 1.0, 1.0]\n",
      "\n",
      " \n",
      "The final parameters are: [0.047328272985473346, -1.2329112386331036]\n",
      "\n",
      " \n",
      "The qubit 0 and qubit 1 in Pauli-Z basis are -1.0 and -1.0\n",
      "\n",
      "------------------------\n",
      "The cost evolution for 10 measurement sampling is: [1.0, 0.6, 0.8, 0.6, 0.4, 0.6, 0.2, 0.6, 0.4, 0.6, 0.4, 0.2, 0.8, 0.2, 0.2, 0.2, 0.4, 0.2, 0.2, 0.4, 0.2, 0.2, 0.0, 0.6, 0.0, 0.4, 0.4, 0.0, 0.0, 0.0]\n",
      "\n",
      " \n",
      "The final parameters are: [-1.6846767983468014, 1.9074549451934852]\n",
      "\n",
      " \n",
      "The qubit 0 and qubit 1 in Pauli-Z basis are 0.2 and 0.2\n",
      "\n",
      "------------------------\n",
      "The cost evolution for 100 measurement sampling is: [1.0, 0.7, 0.62, 0.16, 0.2, 0.04, 0.02, 0.02, 0.12, 0.18, 0.08, 0.0, 0.04, 0.1, 0.18, 0.04, 0.16, 0.1, 0.14, 0.08, 0.02, 0.04, 0.14, 0.12, 0.04, 0.04, 0.04, 0.04, 0.0, 0.22]\n",
      "\n",
      " \n",
      "The final parameters are: [1.9339552758360004, -2.0057213174512207]\n",
      "\n",
      " \n",
      "The qubit 0 and qubit 1 in Pauli-Z basis are -0.04 and -0.04\n",
      "\n",
      "------------------------\n",
      "The cost evolution for 1000 measurement sampling is: [1.0, 0.85, 0.456, 0.188, 0.07, 0.002, 0.01, 0.03, 0.056, 0.006, 0.036, 0.028, 0.012, 0.012, 0.028, 0.026, 0.004, 0.014, 0.046, 0.068, 0.02, 0.028, 0.006, 0.002, 0.032, 0.052, 0.022, 0.062, 0.014, 0.026]\n",
      "\n",
      " \n",
      "The final parameters are: [1.53597299820189, -1.618472377572779]\n",
      "\n",
      " \n",
      "The qubit 0 and qubit 1 in Pauli-Z basis are -0.04 and -0.04\n",
      "\n"
     ]
    }
   ],
   "source": [
    "# 1 Shot\n",
    "training(1)\n",
    "\n",
    "# 10 Shot\n",
    "training(10)\n",
    "\n",
    "# 100 Shot\n",
    "training(100)\n",
    "\n",
    "# 1000 Shot\n",
    "training(1000)"
   ]
  },
  {
   "cell_type": "markdown",
   "metadata": {},
   "source": [
    "Now let's look at results for different number of measurement sampling. As expected, with only 1 measurement, cost function is always 1 as expectation value is always 1 or -1. As we increase number of measurements, cost function starts to minimize and gets closer to 0. With 1000 measurements, it is almost perfectly in Bell state. This is verfied in two-fold way, one is that expectation value of qubit 0 is 0 so it is equally in |0> and |1> state, while qubit 1 also always have same expectation value as qubit 0. However, right now we can't tell if parameters are for state |Psi>_plus_ or |Psi>_minus_"
   ]
  },
  {
   "cell_type": "markdown",
   "metadata": {},
   "source": [
    "#### Bonus\n",
    "How do we ensure that resulting state after circuit is trained is |Psi>_plus_ = (|00> + |11>) / sqrt(2)?\n",
    "\n",
    "Instead of measuring the circuit in Pauli-Z basis, we have to measure it in Pauli-X basis on both qubits. In PennyLane, it is possible to do such multi-qubit observation in Pauli-X basis with tensor observables. We modify the circuit and cost function ( -1 multiplier in cost function as we want |Psi>_plus_ which has expectation value of 1 in Pauli-X basis) to to ensure generation of a specific Bell state"
   ]
  },
  {
   "cell_type": "code",
   "execution_count": 40,
   "metadata": {},
   "outputs": [],
   "source": [
    "# Modified circuit\n",
    "@qml.qnode(dev)\n",
    "def circuit_psi(parameters):\n",
    "    qml.RX(parameters[0], wires=0)\n",
    "    qml.RY(parameters[1], wires=0)\n",
    "    qml.CNOT(wires=[0, 1])\n",
    "    return qml.expval(qml.PauliX(0) @ qml.PauliX(1))\n",
    "\n",
    "# Modified cost function\n",
    "def cost2(parameters):\n",
    "    p = circuit_psi(parameters)\n",
    "    return -1*p "
   ]
  },
  {
   "cell_type": "code",
   "execution_count": 41,
   "metadata": {},
   "outputs": [
    {
     "name": "stdout",
     "output_type": "stream",
     "text": [
      "------------------------\n",
      "The cost evolution for 100 measurement sampling is: [-0.28, -0.46, -0.62, -0.66, -0.68, -0.84, -0.9, -0.96, -0.92, -0.98, -0.94, -0.92, -0.98, -0.98, -1.0, -0.96, -1.0, -1.0, -1.0, -1.0, -1.0, -1.0, -1.0, -1.0, -1.0, -0.98, -1.0, -1.0, -0.98, -1.0, -1.0, -1.0, -1.0, -1.0, -1.0, -1.0, -1.0, -0.98, -1.0, -1.0, -0.98, -1.0, -0.98, -1.0, -1.0, -1.0, -0.98, -1.0, -1.0, -1.0, -1.0, -1.0, -1.0, -1.0, -1.0, -1.0, -1.0, -1.0, -1.0, -1.0, -1.0, -1.0, -1.0, -1.0, -1.0, -1.0, -1.0, -1.0, -1.0, -1.0, -1.0, -1.0, -1.0, -1.0, -1.0, -1.0, -1.0, -1.0, -1.0, -1.0, -1.0, -1.0, -1.0, -1.0, -1.0, -1.0, -0.98, -1.0, -1.0, -1.0, -1.0, -1.0, -1.0, -0.98, -1.0, -1.0, -1.0, -1.0, -1.0, -1.0]\n",
      "\n",
      " \n",
      "The final parameters are: [0.021035050539376897, 1.55979636262034]\n",
      "\n",
      " \n",
      "The Psi state in X-basis has expectation value: 1.0\n",
      "\n"
     ]
    }
   ],
   "source": [
    "dev.shots = 100\n",
    "initial_parameters = [0.14, 0.14] #We start with inital parameters 0, 0\n",
    "n_steps = 100 # Number of steps of optimization\n",
    "parameters_gd = initial_parameters.copy()\n",
    "# Here we also use Adagrad gradient descent optimizer\n",
    "opt = qml.AdagradOptimizer(stepsize=0.3)\n",
    "costs_gd = []\n",
    "for i in range(n_steps):\n",
    "    costs_gd.append(cost2(parameters_gd))\n",
    "    parameters_gd = opt.step(cost2, parameters_gd)\n",
    "\n",
    "print(\"------------------------\")\n",
    "print('The cost evolution for {0} measurement sampling is: {1}'.format(dev.shots, costs_gd))\n",
    "print('\\n \\nThe final parameters are: {0}'.format(parameters_gd))\n",
    "psi_state = circuit_psi(parameters_gd)\n",
    "print('\\n \\nThe Psi state in X-basis has expectation value: {0}\\n'.format(psi_state))"
   ]
  },
  {
   "cell_type": "markdown",
   "metadata": {},
   "source": [
    "The circuit learnt using gradient descent is: \n",
    "\n",
    "Rx (0) on Q0 -- Ry(pi/2) on Q0 -- CNOT on (QO, Q1)"
   ]
  },
  {
   "cell_type": "code",
   "execution_count": null,
   "metadata": {},
   "outputs": [],
   "source": []
  }
 ],
 "metadata": {
  "kernelspec": {
   "display_name": "Python 3",
   "language": "python",
   "name": "python3"
  },
  "language_info": {
   "codemirror_mode": {
    "name": "ipython",
    "version": 3
   },
   "file_extension": ".py",
   "mimetype": "text/x-python",
   "name": "python",
   "nbconvert_exporter": "python",
   "pygments_lexer": "ipython3",
   "version": "3.7.6"
  }
 },
 "nbformat": 4,
 "nbformat_minor": 2
}
